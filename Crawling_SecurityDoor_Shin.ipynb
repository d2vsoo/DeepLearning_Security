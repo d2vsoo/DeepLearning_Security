{
 "cells": [
  {
   "cell_type": "code",
   "execution_count": 8,
   "metadata": {},
   "outputs": [
    {
     "name": "stdout",
     "output_type": "stream",
     "text": [
      "Collecting webdriver-manager\n",
      "  Downloading webdriver_manager-4.0.1-py2.py3-none-any.whl.metadata (12 kB)\n",
      "Requirement already satisfied: requests in c:\\users\\gj\\anaconda3\\envs\\final_p1\\lib\\site-packages (from webdriver-manager) (2.31.0)\n",
      "Requirement already satisfied: python-dotenv in c:\\users\\gj\\anaconda3\\envs\\final_p1\\lib\\site-packages (from webdriver-manager) (1.0.1)\n",
      "Requirement already satisfied: packaging in c:\\users\\gj\\anaconda3\\envs\\final_p1\\lib\\site-packages (from webdriver-manager) (23.2)\n",
      "Requirement already satisfied: charset-normalizer<4,>=2 in c:\\users\\gj\\anaconda3\\envs\\final_p1\\lib\\site-packages (from requests->webdriver-manager) (2.0.4)\n",
      "Requirement already satisfied: idna<4,>=2.5 in c:\\users\\gj\\anaconda3\\envs\\final_p1\\lib\\site-packages (from requests->webdriver-manager) (3.4)\n",
      "Requirement already satisfied: urllib3<3,>=1.21.1 in c:\\users\\gj\\anaconda3\\envs\\final_p1\\lib\\site-packages (from requests->webdriver-manager) (2.1.0)\n",
      "Requirement already satisfied: certifi>=2017.4.17 in c:\\users\\gj\\anaconda3\\envs\\final_p1\\lib\\site-packages (from requests->webdriver-manager) (2024.2.2)\n",
      "Downloading webdriver_manager-4.0.1-py2.py3-none-any.whl (27 kB)\n",
      "Installing collected packages: webdriver-manager\n",
      "Successfully installed webdriver-manager-4.0.1\n",
      "Collecting selenium\n",
      "  Downloading selenium-4.20.0-py3-none-any.whl.metadata (6.9 kB)\n",
      "Requirement already satisfied: urllib3<3,>=1.26 in c:\\users\\gj\\anaconda3\\envs\\final_p1\\lib\\site-packages (from urllib3[socks]<3,>=1.26->selenium) (2.1.0)\n",
      "Collecting trio~=0.17 (from selenium)\n",
      "  Downloading trio-0.25.0-py3-none-any.whl.metadata (8.7 kB)\n",
      "Collecting trio-websocket~=0.9 (from selenium)\n",
      "  Downloading trio_websocket-0.11.1-py3-none-any.whl.metadata (4.7 kB)\n",
      "Requirement already satisfied: certifi>=2021.10.8 in c:\\users\\gj\\anaconda3\\envs\\final_p1\\lib\\site-packages (from selenium) (2024.2.2)\n",
      "Requirement already satisfied: typing_extensions>=4.9.0 in c:\\users\\gj\\anaconda3\\envs\\final_p1\\lib\\site-packages (from selenium) (4.9.0)\n",
      "Collecting attrs>=23.2.0 (from trio~=0.17->selenium)\n",
      "  Downloading attrs-23.2.0-py3-none-any.whl.metadata (9.5 kB)\n",
      "Requirement already satisfied: sortedcontainers in c:\\users\\gj\\anaconda3\\envs\\final_p1\\lib\\site-packages (from trio~=0.17->selenium) (2.4.0)\n",
      "Requirement already satisfied: idna in c:\\users\\gj\\anaconda3\\envs\\final_p1\\lib\\site-packages (from trio~=0.17->selenium) (3.4)\n",
      "Collecting outcome (from trio~=0.17->selenium)\n",
      "  Downloading outcome-1.3.0.post0-py2.py3-none-any.whl.metadata (2.6 kB)\n",
      "Requirement already satisfied: sniffio>=1.3.0 in c:\\users\\gj\\anaconda3\\envs\\final_p1\\lib\\site-packages (from trio~=0.17->selenium) (1.3.0)\n",
      "Requirement already satisfied: cffi>=1.14 in c:\\users\\gj\\anaconda3\\envs\\final_p1\\lib\\site-packages (from trio~=0.17->selenium) (1.16.0)\n",
      "Requirement already satisfied: exceptiongroup in c:\\users\\gj\\anaconda3\\envs\\final_p1\\lib\\site-packages (from trio~=0.17->selenium) (1.2.0)\n",
      "Collecting wsproto>=0.14 (from trio-websocket~=0.9->selenium)\n",
      "  Downloading wsproto-1.2.0-py3-none-any.whl.metadata (5.6 kB)\n",
      "Requirement already satisfied: pysocks!=1.5.7,<2.0,>=1.5.6 in c:\\users\\gj\\anaconda3\\envs\\final_p1\\lib\\site-packages (from urllib3[socks]<3,>=1.26->selenium) (1.7.1)\n",
      "Requirement already satisfied: pycparser in c:\\users\\gj\\anaconda3\\envs\\final_p1\\lib\\site-packages (from cffi>=1.14->trio~=0.17->selenium) (2.21)\n",
      "Collecting h11<1,>=0.9.0 (from wsproto>=0.14->trio-websocket~=0.9->selenium)\n",
      "  Downloading h11-0.14.0-py3-none-any.whl.metadata (8.2 kB)\n",
      "Downloading selenium-4.20.0-py3-none-any.whl (9.5 MB)\n",
      "   ---------------------------------------- 0.0/9.5 MB ? eta -:--:--\n",
      "   -- ------------------------------------- 0.6/9.5 MB 17.9 MB/s eta 0:00:01\n",
      "   ---- ----------------------------------- 1.1/9.5 MB 14.3 MB/s eta 0:00:01\n",
      "   ------ --------------------------------- 1.7/9.5 MB 13.2 MB/s eta 0:00:01\n",
      "   -------- ------------------------------- 2.1/9.5 MB 13.2 MB/s eta 0:00:01\n",
      "   --------- ------------------------------ 2.2/9.5 MB 9.8 MB/s eta 0:00:01\n",
      "   ----------- ---------------------------- 2.7/9.5 MB 10.1 MB/s eta 0:00:01\n",
      "   ------------- -------------------------- 3.3/9.5 MB 10.4 MB/s eta 0:00:01\n",
      "   --------------- ------------------------ 3.8/9.5 MB 10.6 MB/s eta 0:00:01\n",
      "   ------------------ --------------------- 4.3/9.5 MB 10.6 MB/s eta 0:00:01\n",
      "   -------------------- ------------------- 4.9/9.5 MB 10.7 MB/s eta 0:00:01\n",
      "   ---------------------- ----------------- 5.4/9.5 MB 10.8 MB/s eta 0:00:01\n",
      "   ------------------------ --------------- 5.9/9.5 MB 10.8 MB/s eta 0:00:01\n",
      "   --------------------------- ------------ 6.5/9.5 MB 10.9 MB/s eta 0:00:01\n",
      "   ----------------------------- ---------- 7.0/9.5 MB 11.0 MB/s eta 0:00:01\n",
      "   ------------------------------- -------- 7.6/9.5 MB 11.0 MB/s eta 0:00:01\n",
      "   --------------------------------- ------ 8.0/9.5 MB 11.2 MB/s eta 0:00:01\n",
      "   ------------------------------------- -- 8.9/9.5 MB 11.1 MB/s eta 0:00:01\n",
      "   ---------------------------------------  9.4/9.5 MB 11.1 MB/s eta 0:00:01\n",
      "   ---------------------------------------  9.5/9.5 MB 11.3 MB/s eta 0:00:01\n",
      "   ---------------------------------------- 9.5/9.5 MB 10.7 MB/s eta 0:00:00\n",
      "Downloading trio-0.25.0-py3-none-any.whl (467 kB)\n",
      "   ---------------------------------------- 0.0/467.2 kB ? eta -:--:--\n",
      "   --------------------------------------  460.8/467.2 kB 14.5 MB/s eta 0:00:01\n",
      "   ---------------------------------------- 467.2/467.2 kB 9.9 MB/s eta 0:00:00\n",
      "Downloading trio_websocket-0.11.1-py3-none-any.whl (17 kB)\n",
      "Downloading attrs-23.2.0-py3-none-any.whl (60 kB)\n",
      "   ---------------------------------------- 0.0/60.8 kB ? eta -:--:--\n",
      "   ---------------------------------------- 60.8/60.8 kB 3.4 MB/s eta 0:00:00\n",
      "Downloading wsproto-1.2.0-py3-none-any.whl (24 kB)\n",
      "Downloading outcome-1.3.0.post0-py2.py3-none-any.whl (10 kB)\n",
      "Downloading h11-0.14.0-py3-none-any.whl (58 kB)\n",
      "   ---------------------------------------- 0.0/58.3 kB ? eta -:--:--\n",
      "   ---------------------------------------- 58.3/58.3 kB 3.0 MB/s eta 0:00:00\n",
      "Installing collected packages: h11, attrs, wsproto, outcome, trio, trio-websocket, selenium\n",
      "  Attempting uninstall: attrs\n",
      "    Found existing installation: attrs 23.1.0\n",
      "    Uninstalling attrs-23.1.0:\n",
      "      Successfully uninstalled attrs-23.1.0\n",
      "Successfully installed attrs-23.2.0 h11-0.14.0 outcome-1.3.0.post0 selenium-4.20.0 trio-0.25.0 trio-websocket-0.11.1 wsproto-1.2.0\n"
     ]
    }
   ],
   "source": [
    "!pip install webdriver-manager\n",
    "!pip install selenium"
   ]
  },
  {
   "cell_type": "code",
   "execution_count": 1,
   "metadata": {},
   "outputs": [],
   "source": [
    "import requests\n",
    "from bs4 import BeautifulSoup\n",
    "\n",
    "from selenium import webdriver\n",
    "from selenium.webdriver.chrome.service import Service\n",
    "from webdriver_manager.chrome import ChromeDriverManager\n",
    "from selenium.webdriver.common.by import By\n",
    "from selenium.webdriver.common.keys import Keys\n",
    "import time\n",
    "\n",
    "# 직접 파일을 다운로드할 수 있게 하는 모듈\n",
    "from urllib.request import urlretrieve"
   ]
  },
  {
   "cell_type": "code",
   "execution_count": 2,
   "metadata": {},
   "outputs": [],
   "source": [
    "url = 'https://www.google.com/imghp?hl=ko&tab=ri&ogbl'"
   ]
  },
  {
   "cell_type": "code",
   "execution_count": 3,
   "metadata": {},
   "outputs": [],
   "source": [
    "options = webdriver.ChromeOptions()\n",
    "driver = webdriver.Chrome(service=Service(ChromeDriverManager().install()), options=options)\n",
    "driver.get(url)"
   ]
  },
  {
   "cell_type": "code",
   "execution_count": 4,
   "metadata": {},
   "outputs": [],
   "source": [
    "element = driver.find_element(By.CSS_SELECTOR, '#APjFqb')\n",
    "keyword = input(\"검색어를 입력하세요\")\n",
    "element.send_keys(keyword)\n",
    "element.send_keys(Keys.RETURN)"
   ]
  },
  {
   "cell_type": "code",
   "execution_count": 5,
   "metadata": {},
   "outputs": [],
   "source": [
    "# 스크롤을 끝까지 내리는 코드\n",
    "\n",
    "SCROLL_PAUSE_TIME = 2\n",
    "\n",
    "last_height = driver.execute_script(\"return document.body.scrollHeight\")\n",
    "\n",
    "while True: \n",
    "    driver.execute_script('window.scrollTo(0, document.body.scrollHeight);')\n",
    "    time.sleep(SCROLL_PAUSE_TIME)\n",
    "    \n",
    "    new_height = driver.execute_script('return document.body.scrollHeight')\n",
    "    if new_height == last_height:\n",
    "        try:\n",
    "            time.sleep(SCROLL_PAUSE_TIME)\n",
    "            driver.find_element(By.CSS_SELECTOR, \"input.mye4qd\").click()\n",
    "        except:\n",
    "            break\n",
    "    last_height = new_height\n",
    "    \n",
    "    time.sleep(2)\n",
    "    \n",
    "    try:\n",
    "        elem = driver.find_element(By.CSS_SELECTOR, '#islmp > div > div > div > div > div.C5Hr4 > div.K414Oe > div.FAGjZe > input')\n",
    "        elem.click()\n",
    "    except:\n",
    "        pass"
   ]
  },
  {
   "cell_type": "code",
   "execution_count": 6,
   "metadata": {},
   "outputs": [],
   "source": [
    "# 이미지 PATH 가져오기\n",
    "img_path = '#rso > div > div > div.wH6SXe.u32vCb > div > div > div > div.czzyk.XOEbc > h3 > a > div'\n",
    "\n",
    "elements = driver.find_elements(By.CSS_SELECTOR, img_path)"
   ]
  },
  {
   "cell_type": "code",
   "execution_count": 7,
   "metadata": {},
   "outputs": [
    {
     "data": {
      "text/plain": [
       "914"
      ]
     },
     "execution_count": 7,
     "metadata": {},
     "output_type": "execute_result"
    }
   ],
   "source": [
    "len(elements)"
   ]
  },
  {
   "cell_type": "code",
   "execution_count": null,
   "metadata": {},
   "outputs": [],
   "source": [
    "# elements에 저장된 이미지 구하기 \n",
    "\n",
    "for i, img in enumerate(elements):\n",
    "    try:\n",
    "        img.click() \n",
    "        time.sleep(2)\n",
    "        img = driver.find_element(By.XPATH, '//*[@id=\"Sva75c\"]/div[2]/div[2]/div[2]/div[2]/c-wiz/div/div/div/div/div[3]/div[1]/a/img[1]')\n",
    "        img_url = img.get_attribute('src')\n",
    "        print(img_url)\n",
    "        urlretrieve(img_url, 'door{}.jpg'.format(i+600))\n",
    "        if len(img_url) == 300:\n",
    "            break\n",
    "    except:\n",
    "        pass"
   ]
  },
  {
   "cell_type": "code",
   "execution_count": null,
   "metadata": {},
   "outputs": [],
   "source": [
    "# OS 모듈 IMPORT \n",
    "import os\n",
    "# 디렉토리 목록 구하기\n",
    "os.listdir()"
   ]
  }
 ],
 "metadata": {
  "kernelspec": {
   "display_name": "final_p1",
   "language": "python",
   "name": "python3"
  },
  "language_info": {
   "codemirror_mode": {
    "name": "ipython",
    "version": 3
   },
   "file_extension": ".py",
   "mimetype": "text/x-python",
   "name": "python",
   "nbconvert_exporter": "python",
   "pygments_lexer": "ipython3",
   "version": "3.10.13"
  }
 },
 "nbformat": 4,
 "nbformat_minor": 2
}
